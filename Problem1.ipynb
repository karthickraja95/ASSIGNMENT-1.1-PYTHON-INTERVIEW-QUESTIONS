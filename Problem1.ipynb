{
  "nbformat": 4,
  "nbformat_minor": 0,
  "metadata": {
    "colab": {
      "provenance": [],
      "authorship_tag": "ABX9TyPkMBgoZJHD09SbvoCkyeWk",
      "include_colab_link": true
    },
    "kernelspec": {
      "name": "python3",
      "display_name": "Python 3"
    },
    "language_info": {
      "name": "python"
    }
  },
  "cells": [
    {
      "cell_type": "markdown",
      "metadata": {
        "id": "view-in-github",
        "colab_type": "text"
      },
      "source": [
        "<a href=\"https://colab.research.google.com/github/karthickraja95/ASSIGNMENT-1.1-PYTHON-INTERVIEW-QUESTIONS/blob/interview-questions-main/Problem1.ipynb\" target=\"_parent\"><img src=\"https://colab.research.google.com/assets/colab-badge.svg\" alt=\"Open In Colab\"/></a>"
      ]
    },
    {
      "cell_type": "code",
      "execution_count": null,
      "metadata": {
        "colab": {
          "base_uri": "https://localhost:8080/"
        },
        "id": "NPFj9yVzRWAc",
        "outputId": "b8346a38-b61d-4ff0-ee2c-0ff1856241a2"
      },
      "outputs": [
        {
          "output_type": "stream",
          "name": "stdout",
          "text": [
            "Enter a number:. 4\n",
            "great hello hiyo abc\n",
            "['great', 'abc', 'hello', 'hiyo']\n"
          ]
        }
      ],
      "source": [
        "# sort elements based on second position\n",
        "\n",
        "n = int(input (\"Enter a number:. \"))\n",
        "\n",
        "l = list(map(str, input().split(\" \")[:n]))\n",
        "\n",
        "for i in range(len(l)):\n",
        "    for j in range(len(l)):\n",
        "        #print(l[i][-2], l[j][-2])\n",
        "\n",
        "        if l[j][-2] > l[i][-2]:\n",
        "            temp = l[i]\n",
        "            l[i] = l[j]\n",
        "            l[j] = temp\n",
        "print(l)"
      ]
    }
  ]
}