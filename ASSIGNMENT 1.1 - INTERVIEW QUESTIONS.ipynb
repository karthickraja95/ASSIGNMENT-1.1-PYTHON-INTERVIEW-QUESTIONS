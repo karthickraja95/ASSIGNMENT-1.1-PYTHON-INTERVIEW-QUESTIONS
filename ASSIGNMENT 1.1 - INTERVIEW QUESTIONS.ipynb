{
 "cells": [
  {
   "cell_type": "markdown",
   "id": "b67a6ff2",
   "metadata": {},
   "source": [
    "Hello,\n",
    "\n",
    "Find and read 20 interview questions for Data Types, Operators, Conditional Statements, Looping Statements, Functions.\n",
    "\n",
    "Upload these questions on Github and share the URL below."
   ]
  },
  {
   "cell_type": "markdown",
   "id": "4e486a66",
   "metadata": {},
   "source": [
    "Q1] What are the common built-in data types in Python?"
   ]
  },
  {
   "cell_type": "markdown",
   "id": "6e996123",
   "metadata": {},
   "source": [
    "NUMERIC TYPES:\n",
    "    \n",
    "    1] int\n",
    "    2] float\n",
    "    3] complex\n",
    "    4] bool\n",
    "    \n",
    "SEQUENCE TYPES:\n",
    "    \n",
    "    1] list\n",
    "    2] tuple\n",
    "    3] str\n",
    "    \n",
    "MAPPING TYPES:\n",
    "    \n",
    "    1] dict\n",
    "    2] set\n",
    "    \n",
    "OTHER TYPES:\n",
    "    \n",
    "    None data type\n"
   ]
  },
  {
   "cell_type": "markdown",
   "id": "53185de5",
   "metadata": {},
   "source": [
    "Q2] What is pass in Python?"
   ]
  },
  {
   "cell_type": "markdown",
   "id": "150b2e1a",
   "metadata": {},
   "source": [
    "The pass keyword represents a null operation in Python. \n",
    "\n",
    "It is generally used for the purpose of filling up empty blocks of code \n",
    "which may execute during runtime but has yet to be written. \n",
    "\n",
    "Without the pass statement in the following code, we may run into some errors \n",
    "during code execution."
   ]
  },
  {
   "cell_type": "markdown",
   "id": "ca383851",
   "metadata": {},
   "source": [
    "Q3] How do you copy an object in Python?"
   ]
  },
  {
   "cell_type": "markdown",
   "id": "c2134dc6",
   "metadata": {},
   "source": [
    "Shallow Copy:\n",
    "\n",
    "    It is a bit-wise copy of an object. The copied object created has an exact copy of the values in the original object. If either of the values is a reference to other objects, just the reference addresses for the same are copied.\n",
    "\n",
    "\n",
    "Deep Copy:\n",
    "\n",
    "    It copies all values recursively from source to target object, i.e. it even duplicates the objects referenced by the source object."
   ]
  },
  {
   "cell_type": "markdown",
   "id": "4b8fb25d",
   "metadata": {},
   "source": [
    "Q4] What is slicing in Python?"
   ]
  },
  {
   "cell_type": "code",
   "execution_count": null,
   "id": "b71470fe",
   "metadata": {},
   "outputs": [],
   "source": [
    "Syntax for slicing is [start : stop : step]\n",
    "\n",
    "start is the starting index from where to slice a list or tuple\n",
    "\n",
    "stop is the ending index or where to sop\n",
    "\n",
    "step is the number of steps to jump\n",
    "\n",
    "Default value for start is 0, stop is number of items, step is 1\n",
    "\n",
    "Slicing can be done on strings, arrays, lists, and tuples"
   ]
  },
  {
   "cell_type": "markdown",
   "id": "6e84ab0e",
   "metadata": {},
   "source": [
    "Q5] What is the difference between Python Arrays and lists?"
   ]
  },
  {
   "cell_type": "markdown",
   "id": "75679206",
   "metadata": {},
   "source": [
    "    Arrays in python can only contain elements of same data types i.e., data type of array should be homogeneous. It is a thin wrapper around C language arrays and consumes far less memory than lists.\n",
    "    \n",
    "    Lists in python can contain elements of different data types i.e., data type of lists can be heterogeneous. It has the disadvantage of consuming large memory."
   ]
  },
  {
   "cell_type": "markdown",
   "id": "f75c2e3d",
   "metadata": {},
   "source": [
    "Q6] What does immutable mean and what three types of Python core data types are considered immutable?"
   ]
  },
  {
   "cell_type": "markdown",
   "id": "83bd91dd",
   "metadata": {},
   "source": [
    "    An immutable data type is a type of object which cannot be modified after its creation.\n",
    "    \n",
    "    Numbers, strings, and tuples in Python fall into this category. \n",
    "    \n",
    "    Although you cannot modify an immutable object in place, you can always create a new one by running an expression"
   ]
  },
  {
   "cell_type": "markdown",
   "id": "7104064e",
   "metadata": {},
   "source": [
    "Q7] What are the key features of Python?"
   ]
  },
  {
   "cell_type": "markdown",
   "id": "5faff9a3",
   "metadata": {},
   "source": [
    "If it makes for an introductory language to programming, Python must mean something. These are its qualities:\n",
    "\n",
    "* Interpreted\n",
    "* Dynamically-typed\n",
    "* Object-oriented\n",
    "* Concise and simple\n",
    "* Free\n",
    "* Has a large community"
   ]
  },
  {
   "cell_type": "markdown",
   "id": "8b95cc35",
   "metadata": {},
   "source": [
    "Q8] Why do we need break and continue in Python?"
   ]
  },
  {
   "cell_type": "markdown",
   "id": "82e8031c",
   "metadata": {},
   "source": [
    "    Both break and continue are statements that control flow in Python loops. \n",
    "    \n",
    "    break stops the current loop from executing further and transfers the control to the next block. \n",
    "    \n",
    "    continue jumps to the next iteration of the loop without exhausting it."
   ]
  },
  {
   "cell_type": "markdown",
   "id": "fa2019f4",
   "metadata": {},
   "source": [
    "Q9] What are Keywords in Python?"
   ]
  },
  {
   "cell_type": "markdown",
   "id": "def0549e",
   "metadata": {},
   "source": [
    "    Keywords in python are reserved words that have special meaning.They are generally used to define type of variables. Keywords cannot be used for variable or function names. There are following 33 keywords in python\n",
    "    \n",
    "    e.g:\n",
    "    \n",
    "    pass, return, True, False, etc,..."
   ]
  },
  {
   "cell_type": "markdown",
   "id": "aa8f366b",
   "metadata": {},
   "source": [
    "Q10] What are functions in Python?"
   ]
  },
  {
   "cell_type": "markdown",
   "id": "1912418d",
   "metadata": {},
   "source": [
    "    A function is a block of code which is executed only when it is called. To define a Python function, the def keyword is used.\n",
    "    \n",
    "syntax:\n",
    "\n",
    "\n",
    "def func_name(parameters):\n",
    "    return value\n",
    "    \n",
    "func_name(arguments)\n",
    "    "
   ]
  },
  {
   "cell_type": "markdown",
   "id": "e2f9cfda",
   "metadata": {},
   "source": [
    "Q11] Is Python Object-oriented or Functional Programming?"
   ]
  },
  {
   "cell_type": "markdown",
   "id": "b9ea1e62",
   "metadata": {},
   "source": [
    "* Python is considered a multi-paradigm language.\n",
    "\n",
    "* Python follows the object-oriented paradigm \n",
    "\n",
    "* Python allows the creation of objects and their manipulation through specific methods \n",
    "* It supports most of the features of OOPS such as inheritance and polymorphism\n",
    "\n",
    "* Python follows the functional programming paradigm\n",
    "\n",
    "* Functions may be used as the first-class object \n",
    "* Python supports Lambda functions which are characteristic of the functional paradigm "
   ]
  },
  {
   "cell_type": "markdown",
   "id": "57445f08",
   "metadata": {},
   "source": [
    "Q12] What Are *args and *kwargs?"
   ]
  },
  {
   "cell_type": "code",
   "execution_count": null,
   "id": "f0dc83cd",
   "metadata": {},
   "outputs": [],
   "source": [
    "*args:\n",
    "\n",
    "    It is used in a function prototype to accept a varying number of arguments.\n",
    "\n",
    "    It's an iterable object. \n",
    "\n",
    "    Usage - def fun(*args)\n",
    "\n",
    "*kwargs \n",
    "\n",
    "    It is used in a function prototype to accept the varying number of keyworded arguments.\n",
    "\n",
    "    It's an iterable object\n",
    "\n",
    "    Usage - def fun(**kwargs):\n",
    "\n",
    "    fun(colour=”red”.units=2)"
   ]
  },
  {
   "cell_type": "markdown",
   "id": "a9b142b0",
   "metadata": {},
   "source": [
    "Q13] Explain global variables and local variables in Python."
   ]
  },
  {
   "cell_type": "markdown",
   "id": "4f822561",
   "metadata": {},
   "source": [
    "Local Variables:\n",
    "\n",
    "    A local variable is any variable declared within a function. This variable exists only in local space, not in global space.\n",
    "\n",
    "Global Variables:\n",
    "\n",
    "    Global variables are variables declared outside of a function or in a global space. Any function in the program can access these variables."
   ]
  },
  {
   "cell_type": "markdown",
   "id": "c21d6215",
   "metadata": {},
   "source": [
    "Q14] What are Python modules? Name a few Python built-in modules that are often used."
   ]
  },
  {
   "cell_type": "markdown",
   "id": "5fec1170",
   "metadata": {},
   "source": [
    "Python modules are files that contain Python code. Functions, classes, or variables can be used in this code. A Python module is a .py file that contains code that may be executed. The following are the commonly used built-in modules:\n",
    "\n",
    "    * JSON\n",
    "    * date time\n",
    "    * random\n",
    "    * math\n",
    "    * sys\n",
    "    * OS"
   ]
  },
  {
   "cell_type": "markdown",
   "id": "042baed9",
   "metadata": {},
   "source": [
    "Q15] What is the Lambda function?\n",
    "\n",
    "    A lambda function is a type of anonymous function. This function can take as many parameters as you want, but just one statement."
   ]
  },
  {
   "cell_type": "markdown",
   "id": "7cd1b970",
   "metadata": {},
   "source": [
    "Q16] What are negative indexes and why are they used?\n",
    "\n",
    "    The indexes from the end of the list, tuple, or string are called negative indexes.\n",
    "\n",
    "    Arr[-1] denotes the array's last element"
   ]
  },
  {
   "cell_type": "markdown",
   "id": "1a00a936",
   "metadata": {},
   "source": [
    "Q17] What are the various types of operators in Python?\n",
    "\n",
    "    * Bitwise operators\n",
    "    \n",
    "    * Identity operators\n",
    "\n",
    "    * Membership operators\n",
    "\n",
    "    * Logical operators\n",
    "\n",
    "    * Assignment operators\n",
    "\n",
    "    * Relational operators\n",
    "\n",
    "    * Arithmetic operators"
   ]
  },
  {
   "cell_type": "markdown",
   "id": "c497a627",
   "metadata": {},
   "source": [
    "Q18] What is the difference between Set and Dictionary?"
   ]
  },
  {
   "cell_type": "markdown",
   "id": "6d1ccd9c",
   "metadata": {},
   "source": [
    "    Set is an unordered collection of data type that is iterable, mutable, and has no duplicate elements.\n",
    "\n",
    "    Dictionary in Python is an unordered collection of data values, used to store data values like a map."
   ]
  },
  {
   "cell_type": "markdown",
   "id": "a8218658",
   "metadata": {},
   "source": [
    "Q19] What is List Comprehension? Give an Example.\n",
    "\n",
    "    List comprehension is a syntax construction to ease the creation of a list based on existing iterable.\n",
    "\n",
    "For Example:\n",
    "\n",
    "    my_list = [i for i in range(1, 10)]"
   ]
  },
  {
   "cell_type": "markdown",
   "id": "b8b67c5f",
   "metadata": {},
   "source": [
    "Q20] How does the range function work?\n",
    "\n",
    "    The range function returns the sequence of numbers between the start to stop with a step increment. The syntax of the range function is range(start, stop[, step]).\n",
    "\n",
    "    The stop argument is mandatory. The arguments start and step are optional. The default value of start and step are 0 and 1, respectively."
   ]
  }
 ],
 "metadata": {
  "kernelspec": {
   "display_name": "Python 3 (ipykernel)",
   "language": "python",
   "name": "python3"
  },
  "language_info": {
   "codemirror_mode": {
    "name": "ipython",
    "version": 3
   },
   "file_extension": ".py",
   "mimetype": "text/x-python",
   "name": "python",
   "nbconvert_exporter": "python",
   "pygments_lexer": "ipython3",
   "version": "3.10.3"
  }
 },
 "nbformat": 4,
 "nbformat_minor": 5
}
